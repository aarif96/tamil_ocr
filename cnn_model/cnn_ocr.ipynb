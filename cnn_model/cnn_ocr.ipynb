{
 "cells": [
  {
   "cell_type": "code",
   "execution_count": 388,
   "metadata": {
    "collapsed": true
   },
   "outputs": [],
   "source": [
    "import os\n",
    "import cv2\n",
    "import keras\n",
    "from pickle import load,dump\n",
    "from skimage import exposure\n",
    "from sklearn.model_selection import train_test_split\n",
    "from keras.preprocessing.image import ImageDataGenerator\n",
    "from keras.callbacks import ModelCheckpoint,EarlyStopping\n",
    "from keras.preprocessing import image\n",
    "from keras.models import Sequential,Model,load_model\n",
    "from keras.layers import Dense,Conv2D,MaxPooling2D,Dropout,Flatten,Dense\n",
    "import matplotlib.pyplot as plt\n",
    "from PIL import Image,ImageFilter\n",
    "import numpy as np\n",
    "%matplotlib inline  \n",
    "#for inline graphical plotting"
   ]
  },
  {
   "cell_type": "code",
   "execution_count": 389,
   "metadata": {},
   "outputs": [],
   "source": [
    "#path_to_training = \"../../Dataset/UJTDchar/Train/\"\n",
    "#path_to_validation = \"../../Dataset/UJTDchar/Validation/\"\n",
    "#files_training = os.listdir(path_to_training)\n",
    "#files_validation = os.listdir(path_to_validation)\n",
    "path_train_img = \"../../Dataset/UJTDchar/Train/shuffled_img.txt\"\n",
    "path_train_labels = \"../../Dataset/UJTDchar/Train/shuffled_labels.txt\"\n",
    "path_val_img = \"../../Dataset/UJTDchar/Validation/shuffled_images.txt\"\n",
    "path_val_labels = \"../../Dataset/UJTDchar/Validation/shuffled_labels.txt\"\n",
    "#character_list = os.listdir(path_to_training)\n",
    "char_to_index = {}\n",
    "index_to_char = {}\n",
    "char_big_img = {}\n",
    "char_small_img = {}\n",
    "char_ab_threshold = []\n",
    "no_of_images = 0 \n",
    "num_classes = 124\n",
    "#print(len(character_list))\n",
    "#print(files)\n",
    "for i in character_list:\n",
    "    char_small_img[i] = 0  ##no of small images for each character\n",
    "    char_big_img[i] = 0    ##no of large images for each character\n",
    "#print(char_big_img)\n",
    "x = []\n",
    "threshold = 40\n",
    "small_images = 0\n",
    "avg_height = 0 \n",
    "avg_width = 0 \n",
    "valid_images = [\".jpg\",\".gif\",\".png\",\".tga\"]\n",
    "dim = (32,32)"
   ]
  },
  {
   "cell_type": "code",
   "execution_count": 390,
   "metadata": {
    "collapsed": true
   },
   "outputs": [],
   "source": [
    "def apply_filters_to_images(path,files):\n",
    "    for file in files:\n",
    "        path1 = os.path.join(path,file)\n",
    "        images = os.listdir(path1)\n",
    "        for j,image in enumerate(images):\n",
    "            path2 = os.path.join(path1,image)\n",
    "            img = Image.open(path2,mode='r')\n",
    "            blur=img.filter(ImageFilter.BLUR)\n",
    "            ee=img.filter(ImageFilter.EDGE_ENHANCE)\n",
    "            contour=img.filter(ImageFilter.CONTOUR)\n",
    "            detail=img.filter(ImageFilter.DETAIL)\n",
    "            emboss=img.filter(ImageFilter.EMBOSS)\n",
    "            smooth=img.filter(ImageFilter.SMOOTH)\n",
    "            sharpen=img.filter(ImageFilter.SHARPEN)\n",
    "            smooth_more=img.filter(ImageFilter.SMOOTH_MORE)\n",
    "            ee.save(os.path.join(path1,\"EEz\"+str(j)+\".jpg\"))\n",
    "            blur.save(os.path.join(path1,\"blsdur\"+str(j)+\".jpg\"))\n",
    "            contour.save(os.path.join(path1,\"cadsontour\"+str(j)+\".jpg\"))\n",
    "            detail.save(os.path.join(path1,\"deasftail\"+str(j)+\".jpg\"))\n",
    "            emboss.save(os.path.join(path1,\"emasdasboss\"+str(j)+\".jpg\"))\n",
    "            smooth.save(os.path.join(path1,\"smasdaooth\"+str(j)+\".jpg\"))\n",
    "            sharpen.save(os.path.join(path1,\"shsadarpen\"+str(j)+\".jpg\"))\n",
    "            smooth_more.save(os.path.join(path1,\"smooasdth_more_\"+str(j)+\".jpg\"))"
   ]
  },
  {
   "cell_type": "code",
   "execution_count": 391,
   "metadata": {
    "collapsed": true
   },
   "outputs": [],
   "source": [
    "def loading_all_images(valid_images,x,path,threshold,char_small_img,char_big_img,char_ab_threshold,files,character_list,dim,avg_height,avg_width,small_images):\n",
    "    for i,file in enumerate(files):\n",
    "        path1 = os.path.join(path,file)\n",
    "        images = os.listdir(path1)\n",
    "        for image in images:\n",
    "            ext = os.path.splitext(image)\n",
    "            if ext[1].lower() in valid_images:\n",
    "                img = cv2.imread(os.path.join(path1,image),0)\n",
    "                #img_eq = exposure.equalize_hist(img)\n",
    "                avg_height = avg_height + img.shape[1]\n",
    "                avg_width = avg_width + img.shape[0]\n",
    "                if img.shape < dim:\n",
    "                    small_images+=1\n",
    "                    split = os.path.split(os.path.join(path1,image))\n",
    "                    split1 = os.path.split(split[0])\n",
    "                    if split1[1] in character_list:\n",
    "                        char_small_img[split1[1]]+=1\n",
    "                    img_resize = cv2.resize(img, dim, interpolation = cv2.INTER_AREA)\n",
    "                else:\n",
    "                    split = os.path.split(os.path.join(path1,image))\n",
    "                    split1 = os.path.split(split[0])\n",
    "                    if split1[1] in character_list:\n",
    "                        char_big_img[split1[1]]+=1\n",
    "                    img_resize = cv2.resize(img, dim, interpolation = cv2.INTER_AREA)\n",
    "                x.append(img_resize)\n",
    "    return x"
   ]
  },
  {
   "cell_type": "code",
   "execution_count": 392,
   "metadata": {
    "collapsed": true
   },
   "outputs": [],
   "source": [
    "#x = loading_all_images(valid_images,x,path,threshold,char_small_img,char_big_img,char_ab_threshold,files,character_list,dim,avg_height,avg_width,small_images)"
   ]
  },
  {
   "cell_type": "code",
   "execution_count": 393,
   "metadata": {
    "collapsed": true
   },
   "outputs": [],
   "source": [
    "def loadBatchImages(path,files):\n",
    "    x = []\n",
    "    for file in files:\n",
    "        path1 = os.path.join(path,file)\n",
    "        images = os.listdir(path1)\n",
    "        for image in images:\n",
    "            ext = os.path.splitext(image)\n",
    "            if ext[1].lower() in valid_images:\n",
    "                img = cv2.imread(os.path.join(path1,image),0)\n",
    "                #img_eq = exposure.equalize_hist(img)\n",
    "                img_resize = cv2.resize(img, dim, interpolation = cv2.INTER_AREA)\n",
    "                x.append(img_resize)\n",
    "    np.asarray(x)\n",
    "    x = np.expand_dims(x,axis=-1)\n",
    "    return x "
   ]
  },
  {
   "cell_type": "code",
   "execution_count": 394,
   "metadata": {
    "collapsed": true
   },
   "outputs": [],
   "source": [
    "def loadImagePaths(path):\n",
    "    img_paths = []\n",
    "    with open(path,\"r\") as file:\n",
    "        for f in file:\n",
    "            img_paths.append(f.split(\"\\n\")[0]) ##read from shuffled image file and store in a list\n",
    "    return img_paths"
   ]
  },
  {
   "cell_type": "code",
   "execution_count": 395,
   "metadata": {
    "collapsed": true
   },
   "outputs": [],
   "source": [
    "def loadLabelPaths(path):\n",
    "    labels = []\n",
    "    with open(path,\"r\") as file:\n",
    "        for f in file:\n",
    "            labels.append(f.split(\"\\n\")[0]) ##read from shuffled label file and store in list\n",
    "    return labels"
   ]
  },
  {
   "cell_type": "code",
   "execution_count": 396,
   "metadata": {
    "collapsed": true
   },
   "outputs": [],
   "source": [
    "def loadImageFromList(img_list,batch_start,limit):\n",
    "    x = []\n",
    "    for i in range(batch_start,limit):\n",
    "        img = cv2.imread(img_list[i],0)    ##read image paths from the image path list\n",
    "        img_resize = cv2.resize(img, dim, interpolation = cv2.INTER_AREA)\n",
    "        x.append(img_resize)\n",
    "    np.asarray(x)\n",
    "    x = np.expand_dims(x,axis=-1)\n",
    "    return x                         ##return image read as numpy array"
   ]
  },
  {
   "cell_type": "code",
   "execution_count": 397,
   "metadata": {
    "collapsed": true
   },
   "outputs": [],
   "source": [
    "def loadLabelFromList(num_classes,labels,batch_start,limit):\n",
    "    label_list = []\n",
    "    label_list = [labels[i] for i in range(batch_start,limit)] ##read labels from label list\n",
    "    y_train = np.asarray(label_list)  ##make label list as numpy array\n",
    "    y_train = keras.utils.to_categorical(y_train, num_classes)  ##make data categorical format\n",
    "    return y_train"
   ]
  },
  {
   "cell_type": "code",
   "execution_count": 398,
   "metadata": {
    "collapsed": true
   },
   "outputs": [],
   "source": [
    "##def loadBatchTargets(num_classes,batch_start,limit,number):\n",
    "    ##label_list = []\n",
    "    ##for j in range(batch_start,limit):\n",
    "        ##temp = [j for i in range(0,number)]\n",
    "        ##label_list = label_list + temp \n",
    "    #print(label_list)    \n",
    "    ##y_train = np.asarray(label_list)\n",
    "    ##y_train = keras.utils.to_categorical(y_train, num_classes)\n",
    "    #print(y_train.shape)\n",
    "    ##return y_train"
   ]
  },
  {
   "cell_type": "code",
   "execution_count": 418,
   "metadata": {
    "collapsed": true
   },
   "outputs": [],
   "source": [
    "def batchTrainingImageLoader(path_img,path_labels,batch_size,num_classes):\n",
    "\n",
    "    \n",
    "    img_paths = loadImagePaths(path_img)\n",
    "    labels = loadLabelPaths(path_labels)\n",
    "    L = len(img_paths)\n",
    "    #this line is just to make the generator infinite, keras needs that    \n",
    "    while True:\n",
    "\n",
    "        batch_start = 0\n",
    "        batch_end = batch_size\n",
    "\n",
    "        while batch_start < L:\n",
    "            limit = min(batch_end, L)\n",
    "            #x_train = loadBatchImages(path,files[batch_start:limit])\n",
    "            x_train = loadImageFromList(img_paths,batch_start,limit)\n",
    "            #y_train = loadBatchTargets(num_classes,batch_start,limit,number=720)\n",
    "            y_train = loadLabelFromList(num_classes,labels,batch_start,limit)\n",
    "            datagen_train = data_augment_train(x_train,y_train)\n",
    "            datagen_train.fit(x_train)\n",
    "            for X_batch, y_batch in datagen_train.flow(x_train,y_train,batch_size=16,shuffle=True):\n",
    "                yield (X_batch,y_batch) #a tuple with two numpy arrays with batch_size samples     \n",
    "\n",
    "            batch_start += batch_size   \n",
    "            batch_end += batch_size"
   ]
  },
  {
   "cell_type": "code",
   "execution_count": 442,
   "metadata": {
    "collapsed": true
   },
   "outputs": [],
   "source": [
    "def batchValidationImageLoader(path_img,path_labels,batch_size,num_classes):\n",
    "    \n",
    "    \n",
    "    img_paths = loadImagePaths(path_img)\n",
    "    labels = loadLabelPaths(path_labels)\n",
    "    L = len(img_paths)\n",
    "    \n",
    "    while True:\n",
    "        \n",
    "        batch_start = 0\n",
    "        batch_end = batch_size\n",
    "\n",
    "        while batch_start < L:\n",
    "            limit = min(batch_end, L)\n",
    "            #x_val = loadBatchImages(path,files[batch_start:limit])\n",
    "            x_val = loadImageFromList(img_paths,batch_start,limit)\n",
    "            #y_val = loadBatchTargets(num_classes,batch_start,limit,number=180)\n",
    "            y_val = loadLabelFromList(num_classes,labels,batch_start,limit)\n",
    "            datagen_val = data_augment_val(x_val,y_val)\n",
    "            datagen_val.fit(x_val)\n",
    "            for X_batch, y_batch in datagen_val.flow(x_val,y_val,batch_size=16,shuffle=True):\n",
    "                yield (X_batch,y_batch) #a tuple with two numpy arrays with batch_size samples     \n",
    "\n",
    "            batch_start += batch_size   \n",
    "            batch_end += batch_size"
   ]
  },
  {
   "cell_type": "code",
   "execution_count": 443,
   "metadata": {},
   "outputs": [],
   "source": [
    "#batchTrainingImageLoader(path,files,batch_size=10,num_classes=124)"
   ]
  },
  {
   "cell_type": "code",
   "execution_count": 444,
   "metadata": {},
   "outputs": [],
   "source": [
    "#batchValidationImageLoader(path,files,batch_size=10,num_classes=124)"
   ]
  },
  {
   "cell_type": "code",
   "execution_count": 445,
   "metadata": {
    "collapsed": true
   },
   "outputs": [],
   "source": [
    "avg_height = (avg_height//12400)\n",
    "avg_width = (avg_width//12400)\n",
    "for key,val in char_big_img.items():\n",
    "    if val > threshold:\n",
    "        char_ab_threshold.append(key)\n",
    "        #print(val)\n",
    "#print(char_ab_threshold)"
   ]
  },
  {
   "cell_type": "code",
   "execution_count": 446,
   "metadata": {
    "collapsed": true
   },
   "outputs": [],
   "source": [
    "def load_img_for_11_classes():\n",
    "    for i,file in enumerate(files):\n",
    "        path1 = os.path.join(path,file)\n",
    "        images = os.listdir(path1)\n",
    "        for image in images:\n",
    "            ext = os.path.splitext(image)\n",
    "            if ext[1].lower() in valid_images:\n",
    "                img = cv2.imread(os.path.join(path1,image),0)\n",
    "                img_eq = exposure.equalize_hist(img)\n",
    "                #blur = cv2.GaussianBlur(img,(5,5),0)\n",
    "                if img.shape >= dim:\n",
    "                    split = os.path.split(os.path.join(path1,image))\n",
    "                    #print(split)\n",
    "                    split1 = os.path.split(split[0])\n",
    "                    #print(split1)\n",
    "                    if split1[1] in char_ab_threshold:\n",
    "                        img_resize = cv2.resize(img_eq, dim, interpolation = cv2.INTER_AREA)\n",
    "                        x.append(img_resize)\n",
    "                        #filenames.append(os.path.join(path1,image))"
   ]
  },
  {
   "cell_type": "code",
   "execution_count": 447,
   "metadata": {
    "collapsed": true
   },
   "outputs": [],
   "source": [
    "#x_train = np.array(x)\n",
    "#x_train = np.expand_dims(x,axis=-1)\n",
    "#print(x_train.shape)"
   ]
  },
  {
   "cell_type": "code",
   "execution_count": 448,
   "metadata": {
    "collapsed": true
   },
   "outputs": [],
   "source": [
    "#plt.imshow(img_resize) ##sample image visualizing "
   ]
  },
  {
   "cell_type": "code",
   "execution_count": 449,
   "metadata": {
    "collapsed": true
   },
   "outputs": [],
   "source": [
    "#label_to_char_mapping = {0 : 'A' , 1 : 'Aa' , 2 : 'I'}\n",
    "#print(label_to_char_mapping)\n",
    "def create_labels_for_11_classes():\n",
    "    label_list = []\n",
    "    temp = []\n",
    "    \"\"\"for j in range(0,len(char_ab_threshold)):    \n",
    "        temp = [j for i in range(0,char_big_img[key]) if key in char_ab_threshold]\n",
    "        label_list = label_list + temp\n",
    "    \"\"\"\n",
    "    label_list = [0 for i in range(1,43)] + [1 for i in range(1,44)]+ [2 for i in range(1,43)] + [3 for i in range(1,46)] + [4 for i in range(1,43)] + [5 for i in range(1,42)] + [6 for i in range(1,46)] + [7 for i in range(1,43)]+ [8 for i in range(1,42)] + [9 for i in range(1,43)] + [10 for i in range(1,44)]\n",
    "    print(label_list) \n",
    "    y_train = np.asarray(label_list)\n",
    "    y_train = keras.utils.to_categorical(y_train, num_classes)\n",
    "    print(y_train.shape)\n",
    "    x_train, x_val, y_train, y_val = train_test_split(x_train, y_train, test_size=0.33, random_state=42,stratified=y)\n",
    "    print(x_train.shape)\n",
    "    print(x_val.shape)\n",
    "    print(y_train.shape)\n",
    "    print(y_val.shape)"
   ]
  },
  {
   "cell_type": "code",
   "execution_count": 450,
   "metadata": {
    "collapsed": true
   },
   "outputs": [],
   "source": [
    "def prepare_labels_for_all_images(num_classes):\n",
    "    #label_to_char_mapping = {0 : 'A' , 1 : 'Aa' , 2 : 'I'}\n",
    "    #print(label_to_char_mapping)\n",
    "    label_list = []\n",
    "    for j in range(0,num_classes):\n",
    "        temp = [j for i in range(1,101)]\n",
    "        label_list = label_list + temp \n",
    "    print(label_list)    \n",
    "    y_train = np.asarray(label_list)\n",
    "    y_train = keras.utils.to_categorical(y_train, num_classes)\n",
    "    print(y_train.shape)\n",
    "    #x_train, x_val, y_train, y_val = train_test_split(x_train, y_train, test_size=0.33, random_state=42)\n",
    "    return y_train"
   ]
  },
  {
   "cell_type": "code",
   "execution_count": 451,
   "metadata": {
    "collapsed": true
   },
   "outputs": [],
   "source": [
    "def split_train_val(x_train,y_train):\n",
    "    x_train,x_val,y_train,y_val = train_test_split(x_train,y_train,test_size=0.10,random_state=42,stratify=y_train)\n",
    "    return x_train,x_val,y_train,y_val"
   ]
  },
  {
   "cell_type": "code",
   "execution_count": 452,
   "metadata": {
    "collapsed": true
   },
   "outputs": [],
   "source": [
    "def data_augment_train(x_train,y_train):\n",
    "    x_train = x_train.astype('float32')\n",
    "    datagen_train = ImageDataGenerator(featurewise_center=True,featurewise_std_normalization=True)\n",
    "    #os.makedirs('aug_images')\n",
    "    datagen_train.fit(x_train)\n",
    "    for X_batch, y_batch in datagen_train.flow(x_train, y_train, batch_size=9):\n",
    "        # create a grid of 3x3 images\n",
    "        for i in range(0, 9):\n",
    "            plt.subplot(330 + 1 + i)\n",
    "            plt.imshow(X_batch[i].reshape(32,32),cmap=plt.get_cmap('gray'))\n",
    "        # show the plot\n",
    "        plt.show()\n",
    "        break\n",
    "    return datagen_train"
   ]
  },
  {
   "cell_type": "code",
   "execution_count": 453,
   "metadata": {
    "collapsed": true
   },
   "outputs": [],
   "source": [
    "def data_augment_val(x_val,y_val):\n",
    "    x_val = x_val.astype('float32')\n",
    "    datagen_val = ImageDataGenerator(featurewise_center=True,featurewise_std_normalization=True)\n",
    "    datagen_val.fit(x_val)\n",
    "    for X_batch,y_batch in datagen_val.flow(x_val,y_val,batch_size=9):\n",
    "        for i in range(0,9):\n",
    "            plt.subplot(330 + 1 + i)\n",
    "            plt.imshow(X_batch[i].reshape(32,32),cmap=plt.get_cmap('gray'))\n",
    "        plt.show()\n",
    "        break\n",
    "    return datagen_val"
   ]
  },
  {
   "cell_type": "code",
   "execution_count": 454,
   "metadata": {
    "collapsed": true
   },
   "outputs": [],
   "source": [
    "#label_list = [0 for i in range(1,101)] + [1 for i in range(1,101)]+ [2 for i in range(1,101)]\n",
    "#label_to_char_mapping = {0 : 'A' , 1 : 'Aa' , 2 : 'I'}\n",
    "#print(label_to_char_mapping)\n",
    "#y_train = prepare_labels(num_classes)\n",
    "#x_train,x_val,y_train,y_val = split_train_val(x_train,y_train)"
   ]
  },
  {
   "cell_type": "code",
   "execution_count": 455,
   "metadata": {
    "collapsed": true,
    "scrolled": true
   },
   "outputs": [],
   "source": [
    "#datagen_train = data_augment_train(x_train,y_train)\n",
    "#datagen_val = data_augment_val(x_val,y_val)"
   ]
  },
  {
   "cell_type": "code",
   "execution_count": 456,
   "metadata": {},
   "outputs": [
    {
     "name": "stdout",
     "output_type": "stream",
     "text": [
      "{'ஞ': 0, 'ெ': 1, 'சீ': 2, 'றீ': 3, 'ங': 4, 'ள்': 5, 'ை': 6, 'டு': 7, 'தூ': 8, 'ண்': 9, 'U': 10, 'ல': 11, 'ே': 12, 'று': 13, 'யீ': 14, 'லூ': 15, 'லு': 16, 'ரீ': 17, 'னீ': 18, 'நூ': 19, 'ஙி': 20, 'ற': 21, 'ட்': 22, 'பு': 23, 'கீ': 24, 'டீ': 25, 'றி': 26, 'ஞீ': 27, 'ஙீ': 28, 'லீ': 29, 'ட': 30, 'மூ': 31, 'னி': 32, 'னு': 33, 'ஞி': 34, 'ழூ': 35, 'தி': 36, 'யூ': 37, 'I': 38, 'பீ': 39, 'ணீ': 40, 'ற்': 41, 'ணூ': 42, 'டூ': 43, 'ல்': 44, 'லி': 45, 'சூ': 46, 'கு': 47, 'ர': 48, 'ணு': 49, 'க': 50, 'ந்': 51, 'க்': 52, 'Aa': 53, 'றூ': 54, 'ம': 55, 'ம்': 56, 'ஞூ': 57, 'மி': 58, 'வ': 59, 'பூ': 60, 'வி': 61, 'சி': 62, 'ஒ': 63, 'ளூ': 64, 'நி': 65, 'கி': 66, 'எ': 67, 'ன': 68, 'ஏ': 69, 'மீ': 70, 'ழி': 71, 'தீ': 72, 'ஙு': 73, 'ரி': 74, 'வீ': 75, 'ரு': 76, 'ர்': 77, 'நீ': 78, 'ழ்': 79, 'ழ': 80, 'ளி': 81, 'கூ': 82, 'ன்': 83, 'நு': 84, 'ங்': 85, 'ளு': 86, 'மு': 87, 'வூ': 88, 'ப': 89, 'ரூ': 90, 'யு': 91, 'ந': 92, 'ஐ': 93, 'ச்': 94, 'த': 95, 'ஓ': 96, 'ய்': 97, 'ஙூ': 98, 'ா': 99, 'ணி': 100, 'ய': 101, 'ழீ': 102, 'து': 103, 'த்': 104, 'ஞ்': 105, 'பி': 106, 'சு': 107, 'ச': 108, 'ப்': 109, 'ஞு': 110, 'ளீ': 111, 'ள': 112, 'வ்': 113, 'னூ': 114, 'ஃ': 115, 'A': 116, 'வு': 117, 'Uu': 118, 'ழு': 119, 'யி': 120, 'டி': 121, 'ண': 122, 'Ii': 123}\n"
     ]
    }
   ],
   "source": [
    "#train_generator = datagen_train.flow_from_directory(path,target_size=(32,32),batch_size=32,save_to_dir=\"aug_images1\",save_format='jpg')\n",
    "directory_list = os.listdir(\"../../Dataset/UJTDchar/Train\")\n",
    "directory_list = [f for f in directory_list if not f.endswith(\".txt\")]\n",
    "#print(directory_list)\n",
    "for i,char in enumerate(directory_list):\n",
    "    char_to_index[char] = i  \n",
    "print(char_to_index)\n",
    "for key,val in char_to_index.items():\n",
    "    index_to_char[val] = key\n",
    "#datagen_train.fit\n",
    "#print(index_to_char)"
   ]
  },
  {
   "cell_type": "code",
   "execution_count": 457,
   "metadata": {
    "collapsed": true
   },
   "outputs": [],
   "source": [
    "def cnn_model(path_train_img,path_train_labels,path_val_img,path_val_labels,load_size,num_classes):\n",
    "    model = Sequential()\n",
    "    model.add(Conv2D(32, kernel_size=(3, 3),activation='relu',input_shape=(32,32,1)))\n",
    "    model.add(Conv2D(32, (3, 3), activation='relu'))\n",
    "    model.add(MaxPooling2D(pool_size=(2, 2)))\n",
    "    model.add(Dropout(0.5))\n",
    "    model.add(Conv2D(64,(3 , 3) , activation = 'relu'))\n",
    "    model.add(Conv2D(64,(3 , 3) , activation = 'relu'))\n",
    "    model.add(Conv2D(64,(3 , 3) , activation = 'relu'))\n",
    "    model.add(Flatten())\n",
    "    model.add(Dropout(0.5))\n",
    "    model.add(Dense(124,activation='softmax'))\n",
    "\n",
    "    model.compile(loss=keras.losses.categorical_crossentropy,optimizer='adam',metrics=['accuracy'])\n",
    "    print(model.summary())\n",
    "    checkpointer = ModelCheckpoint(filepath='model_filters4.hdf5',monitor='val_loss',verbose=1, save_best_only=True)\n",
    "    earlystopping = EarlyStopping(monitor='val_loss',patience=10)\n",
    "    history = model.fit_generator(generator=batchTrainingImageLoader(path_train_img,path_train_labels,5000,num_classes),\n",
    "                        steps_per_epoch=89280//16,validation_data=batchValidationImageLoader(path_val_img,path_val_labels,5000,num_classes),\n",
    "                        validation_steps=22320//16,epochs=20,callbacks=[checkpointer,earlystopping])\n",
    "    #model.save('model_filters.hdf5')\n",
    "    with open('trainHistoryfilters4.pkl', 'wb') as fp:\n",
    "        dump(history.history, fp)\n",
    "    return model\n",
    "    #model.fit(x_train, y_train,batch_size=32,epochs=100,verbose=1,validation_split=0.2)"
   ]
  },
  {
   "cell_type": "code",
   "execution_count": null,
   "metadata": {},
   "outputs": [
    {
     "name": "stdout",
     "output_type": "stream",
     "text": [
      "_________________________________________________________________\n",
      "Layer (type)                 Output Shape              Param #   \n",
      "=================================================================\n",
      "conv2d_136 (Conv2D)          (None, 30, 30, 32)        320       \n",
      "_________________________________________________________________\n",
      "conv2d_137 (Conv2D)          (None, 28, 28, 32)        9248      \n",
      "_________________________________________________________________\n",
      "max_pooling2d_28 (MaxPooling (None, 14, 14, 32)        0         \n",
      "_________________________________________________________________\n",
      "dropout_55 (Dropout)         (None, 14, 14, 32)        0         \n",
      "_________________________________________________________________\n",
      "conv2d_138 (Conv2D)          (None, 12, 12, 64)        18496     \n",
      "_________________________________________________________________\n",
      "conv2d_139 (Conv2D)          (None, 10, 10, 64)        36928     \n",
      "_________________________________________________________________\n",
      "conv2d_140 (Conv2D)          (None, 8, 8, 64)          36928     \n",
      "_________________________________________________________________\n",
      "flatten_28 (Flatten)         (None, 4096)              0         \n",
      "_________________________________________________________________\n",
      "dropout_56 (Dropout)         (None, 4096)              0         \n",
      "_________________________________________________________________\n",
      "dense_28 (Dense)             (None, 124)               508028    \n",
      "=================================================================\n",
      "Total params: 609,948\n",
      "Trainable params: 609,948\n",
      "Non-trainable params: 0\n",
      "_________________________________________________________________\n",
      "None\n",
      "Epoch 1/20\n"
     ]
    },
    {
     "data": {
      "image/png": "[encoded data removed]",
      "text/plain": [
       "<matplotlib.figure.Figure at 0x7f9e6dc7f860>"
      ]
     },
     "metadata": {},
     "output_type": "display_data"
    },
    {
     "name": "stdout",
     "output_type": "stream",
     "text": [
      "5579/5580 [============================>.] - ETA: 0s - loss: 0.6957 - acc: 0.8143"
     ]
    },
    {
     "data": {
      "image/png": "[encoded data removed]",
      "text/plain": [
       "<matplotlib.figure.Figure at 0x7f9e6fb16240>"
      ]
     },
     "metadata": {},
     "output_type": "display_data"
    },
    {
     "name": "stdout",
     "output_type": "stream",
     "text": [
      "Epoch 00001: val_loss improved from inf to 1.05032, saving model to model_filters4.hdf5\n",
      "5580/5580 [==============================] - 803s 144ms/step - loss: 0.6956 - acc: 0.8143 - val_loss: 1.0503 - val_acc: 0.8062\n",
      "Epoch 2/20\n",
      "5579/5580 [============================>.] - ETA: 0s - loss: 0.0954 - acc: 0.9700Epoch 00002: val_loss did not improve\n",
      "5580/5580 [==============================] - 710s 127ms/step - loss: 0.0954 - acc: 0.9700 - val_loss: 1.1592 - val_acc: 0.8060\n",
      "Epoch 3/20\n",
      "5579/5580 [============================>.] - ETA: 0s - loss: 0.0647 - acc: 0.9806Epoch 00003: val_loss did not improve\n",
      "5580/5580 [==============================] - 683s 122ms/step - loss: 0.0647 - acc: 0.9806 - val_loss: 1.2395 - val_acc: 0.8179\n",
      "Epoch 4/20\n",
      "5579/5580 [============================>.] - ETA: 0s - loss: 0.0515 - acc: 0.9852Epoch 00004: val_loss did not improve\n",
      "5580/5580 [==============================] - 639s 115ms/step - loss: 0.0515 - acc: 0.9852 - val_loss: 1.3534 - val_acc: 0.8199\n",
      "Epoch 5/20\n",
      "5579/5580 [============================>.] - ETA: 0s - loss: 0.0460 - acc: 0.9872Epoch 00005: val_loss did not improve\n",
      "5580/5580 [==============================] - 787s 141ms/step - loss: 0.0460 - acc: 0.9872 - val_loss: 1.3891 - val_acc: 0.8294\n",
      "Epoch 6/20\n",
      "5579/5580 [============================>.] - ETA: 0s - loss: 0.0464 - acc: 0.9880Epoch 00006: val_loss did not improve\n",
      "5580/5580 [==============================] - 647s 116ms/step - loss: 0.0464 - acc: 0.9880 - val_loss: 1.5066 - val_acc: 0.8152\n",
      "Epoch 7/20\n",
      "4411/5580 [======================>.......] - ETA: 2:04 - loss: 0.0434 - acc: 0.9894"
     ]
    }
   ],
   "source": [
    "model = cnn_model(path_train_img,path_train_labels,path_val_img,path_val_labels,5000,num_classes=124)"
   ]
  },
  {
   "cell_type": "code",
   "execution_count": 20,
   "metadata": {
    "collapsed": true
   },
   "outputs": [],
   "source": [
    "def load_test_image(model):\n",
    "    imgA = cv2.imread('../Dataset/aug_images/_8280_2238.jpg',0)\n",
    "    #img_eqA = exposure.equalize_hist(imgA)\n",
    "    img_resizeA = cv2.resize(imgA, dim, interpolation = cv2.INTER_AREA)\n",
    "    plt.imshow(img_resizeA)\n",
    "    x1 = np.array(img_resizeA)\n",
    "    x1 = np.expand_dims(x1,axis=-1)\n",
    "    x1 = np.expand_dims(x1,axis=0)\n",
    "    prediction = model.predict(x1)  ##this doesn't work , it's predicting same class all the time\n",
    "    return prediction"
   ]
  },
  {
   "cell_type": "code",
   "execution_count": 344,
   "metadata": {
    "collapsed": true
   },
   "outputs": [],
   "source": [
    "loaded_model = load_model('model_filters4.hdf5')\n",
    "##prediction = load_test_image(loaded_model)\n",
    "##print(prediction)\n",
    "##print(prediction.shape)\n",
    "##y_classes = prediction.argmax(axis=-1)\n",
    "##print(y_classes)"
   ]
  },
  {
   "cell_type": "code",
   "execution_count": 345,
   "metadata": {
    "collapsed": true,
    "scrolled": true
   },
   "outputs": [],
   "source": [
    "def test_model_on_image(model,img_path):\n",
    "    imgA = cv2.imread(img_path,0) \n",
    "    #img_eqA = exposure.equalize_hist(imgA)\n",
    "    img_resizeA = cv2.resize(imgA, dim, interpolation = cv2.INTER_AREA)\n",
    "    plt.imshow(img_resizeA)\n",
    "    x1 = np.array(img_resizeA)\n",
    "    x1 = np.expand_dims(x1,axis=-1)\n",
    "    x1 = np.expand_dims(x1,axis=0)\n",
    "    datagen_test = ImageDataGenerator(featurewise_center=True,featurewise_std_normalization=True)\n",
    "    datagen_test.fit(x1)\n",
    "    generator = datagen_test.flow(x1,\n",
    "            batch_size=1,shuffle=False)\n",
    "    probabilities = loaded_model.predict_generator(generator,1)\n",
    "    #print(probabilities)\n",
    "    classes = probabilities.argmax(axis=-1)\n",
    "    print(\"Class : \",classes)\n",
    "    char = int(classes)\n",
    "    print(index_to_char[char])"
   ]
  },
  {
   "cell_type": "code",
   "execution_count": 346,
   "metadata": {},
   "outputs": [
    {
     "name": "stdout",
     "output_type": "stream",
     "text": [
      "Class :  [31]\n",
      "மூ\n"
     ]
    },
    {
     "data": {
      "image/png": "[encoded data removed]",
      "text/plain": [
       "<matplotlib.figure.Figure at 0x7f9e75cb16a0>"
      ]
     },
     "metadata": {},
     "output_type": "display_data"
    }
   ],
   "source": [
    "test_model_on_image(loaded_model,'../../index.png')  ##random image downloaded from internet"
   ]
  },
  {
   "cell_type": "code",
   "execution_count": 347,
   "metadata": {},
   "outputs": [
    {
     "name": "stdout",
     "output_type": "stream",
     "text": [
      "Class :  [41]\n",
      "ற்\n"
     ]
    },
    {
     "data": {
      "image/png": "[encoded data removed]",
      "text/plain": [
       "<matplotlib.figure.Figure at 0x7f9e75c304e0>"
      ]
     },
     "metadata": {},
     "output_type": "display_data"
    }
   ],
   "source": [
    "test_model_on_image(loaded_model,'../../index2.png')  ##random image downloaded from internet"
   ]
  },
  {
   "cell_type": "code",
   "execution_count": 348,
   "metadata": {},
   "outputs": [
    {
     "name": "stdout",
     "output_type": "stream",
     "text": [
      "Class :  [44]\n",
      "ல்\n"
     ]
    },
    {
     "data": {
      "image/png": "[encoded data removed]",
      "text/plain": [
       "<matplotlib.figure.Figure at 0x7f9e75c44668>"
      ]
     },
     "metadata": {},
     "output_type": "display_data"
    }
   ],
   "source": [
    "test_model_on_image(loaded_model,'../../index3.png') ##random image downloaded from internet"
   ]
  },
  {
   "cell_type": "code",
   "execution_count": 349,
   "metadata": {
    "collapsed": true
   },
   "outputs": [],
   "source": [
    "def plot_model():\n",
    "    history = load(open(\"trainHistoryfilters3.pkl\", \"rb\"))\n",
    "    print(history['acc'])\n",
    "    print(history.keys())\n",
    "    # summarize history for accuracy\n",
    "    plt.plot(history['acc'])\n",
    "    plt.plot(history['val_acc'])\n",
    "    plt.title('model accuracy')\n",
    "    plt.ylabel('accuracy')\n",
    "    plt.xlabel('epoch')\n",
    "    plt.legend(['train', 'val'], loc='upper left')\n",
    "    plt.savefig('model_accuracy_filters3.png')\n",
    "    plt.show()\n",
    "    # summarize history for loss\n",
    "    plt.plot(history['loss'])\n",
    "    plt.plot(history['val_loss'])\n",
    "    plt.title('model loss')\n",
    "    plt.ylabel('loss')\n",
    "    plt.xlabel('epoch')\n",
    "    plt.legend(['train', 'val'], loc='upper left')\n",
    "    plt.savefig('model_loss_filters3.png')\n",
    "    plt.show()"
   ]
  },
  {
   "cell_type": "code",
   "execution_count": 350,
   "metadata": {},
   "outputs": [
    {
     "name": "stdout",
     "output_type": "stream",
     "text": [
      "[0.86715949820788529, 0.95957661290322582, 0.97105734767025087, 0.97456317204301079, 0.97844982078853049]\n",
      "dict_keys(['val_loss', 'val_acc', 'loss', 'acc'])\n"
     ]
    },
    {
     "data": {
      "image/png": "[encoded data removed]",
      "text/plain": [
       "<matplotlib.figure.Figure at 0x7f9e84da3898>"
      ]
     },
     "metadata": {},
     "output_type": "display_data"
    },
    {
     "data": {
      "image/png": "[encoded data removed]",
      "text/plain": [
       "<matplotlib.figure.Figure at 0x7f9e84d8a6a0>"
      ]
     },
     "metadata": {},
     "output_type": "display_data"
    }
   ],
   "source": [
    "plot_model()"
   ]
  },
  {
   "cell_type": "code",
   "execution_count": null,
   "metadata": {
    "collapsed": true
   },
   "outputs": [],
   "source": []
  }
 ],
 "metadata": {
  "kernelspec": {
   "display_name": "Python 3",
   "language": "python",
   "name": "python3"
  },
  "language_info": {
   "codemirror_mode": {
    "name": "ipython",
    "version": 3
   },
   "file_extension": ".py",
   "mimetype": "text/x-python",
   "name": "python",
   "nbconvert_exporter": "python",
   "pygments_lexer": "ipython3",
   "version": "3.6.1"
  }
 },
 "nbformat": 4,
 "nbformat_minor": 2
}
