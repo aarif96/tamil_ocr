{
 "cells": [
  {
   "cell_type": "code",
   "execution_count": 20,
   "metadata": {
    "collapsed": true
   },
   "outputs": [],
   "source": [
    "import os\n",
    "from PIL import Image,ImageFilter\n",
    "dir = \"../../Dataset/UJTDchar/\" # give home directory of dataset.\n",
    "i=1"
   ]
  },
  {
   "cell_type": "code",
   "execution_count": 21,
   "metadata": {
    "collapsed": true
   },
   "outputs": [],
   "source": [
    "def do(filess):\n",
    "    for files in filess:\n",
    "        if files.endswith('.jpg'):\n",
    "            img=Image.open(files,mode='r')\n",
    "            blur=img.filter(ImageFilter.BLUR)\n",
    "            ee=img.filter(ImageFilter.EDGE_ENHANCE)\n",
    "            contour=img.filter(ImageFilter.CONTOUR)\n",
    "            detail=img.filter(ImageFilter.DETAIL)\n",
    "            emboss=img.filter(ImageFilter.EMBOSS)\n",
    "            smooth=img.filter(ImageFilter.SMOOTH)\n",
    "            sharpen=img.filter(ImageFilter.SHARPEN)\n",
    "            smooth_more=img.filter(ImageFilter.SMOOTH_MORE)\n",
    "            ee.save(\"EEz\"+str(i)+\".jpg\")\n",
    "            blur.save(\"blsdur\"+str(i)+\".jpg\")\n",
    "            contour.save(\"cadsontour\"+str(i)+\".jpg\")\n",
    "            detail.save(\"deasftail\"+str(i)+\".jpg\")\n",
    "            emboss.save(\"emasdasboss\"+str(i)+\".jpg\")\n",
    "            smooth.save(\"smasdaooth\"+str(i)+\".jpg\")\n",
    "            sharpen.save(\"shsadarpen\"+str(i)+\".jpg\")\n",
    "            smooth_more.save(\"smooasdth_more_\"+str(i)+\".jpg\")"
   ]
  },
  {
   "cell_type": "code",
   "execution_count": 22,
   "metadata": {
    "collapsed": true
   },
   "outputs": [],
   "source": [
    "for root, dirs, files in os.walk(dir):\n",
    "    do(root)\n",
    "    i+=1"
   ]
  },
  {
   "cell_type": "code",
   "execution_count": 27,
   "metadata": {
    "collapsed": true
   },
   "outputs": [],
   "source": [
    "#print(os.walk(dir))"
   ]
  },
  {
   "cell_type": "code",
   "execution_count": 26,
   "metadata": {},
   "outputs": [
    {
     "name": "stdout",
     "output_type": "stream",
     "text": [
      "../../Dataset/UJTDchar/\n",
      "../../Dataset/UJTDchar/ஞ\n",
      "../../Dataset/UJTDchar/ெ\n",
      "../../Dataset/UJTDchar/சீ\n",
      "../../Dataset/UJTDchar/றீ\n",
      "../../Dataset/UJTDchar/ங\n",
      "../../Dataset/UJTDchar/ள்\n",
      "../../Dataset/UJTDchar/ை\n",
      "../../Dataset/UJTDchar/டு\n",
      "../../Dataset/UJTDchar/தூ\n",
      "../../Dataset/UJTDchar/ண்\n",
      "../../Dataset/UJTDchar/U\n",
      "../../Dataset/UJTDchar/ல\n",
      "../../Dataset/UJTDchar/ே\n",
      "../../Dataset/UJTDchar/று\n",
      "../../Dataset/UJTDchar/யீ\n",
      "../../Dataset/UJTDchar/லூ\n",
      "../../Dataset/UJTDchar/லு\n",
      "../../Dataset/UJTDchar/ரீ\n",
      "../../Dataset/UJTDchar/னீ\n",
      "../../Dataset/UJTDchar/நூ\n",
      "../../Dataset/UJTDchar/ஙி\n",
      "../../Dataset/UJTDchar/ற\n",
      "../../Dataset/UJTDchar/ட்\n",
      "../../Dataset/UJTDchar/பு\n",
      "../../Dataset/UJTDchar/கீ\n",
      "../../Dataset/UJTDchar/டீ\n",
      "../../Dataset/UJTDchar/றி\n",
      "../../Dataset/UJTDchar/ஞீ\n",
      "../../Dataset/UJTDchar/ஙீ\n",
      "../../Dataset/UJTDchar/லீ\n",
      "../../Dataset/UJTDchar/ட\n",
      "../../Dataset/UJTDchar/மூ\n",
      "../../Dataset/UJTDchar/னி\n",
      "../../Dataset/UJTDchar/னு\n",
      "../../Dataset/UJTDchar/ஞி\n",
      "../../Dataset/UJTDchar/ழூ\n",
      "../../Dataset/UJTDchar/தி\n",
      "../../Dataset/UJTDchar/யூ\n",
      "../../Dataset/UJTDchar/I\n",
      "../../Dataset/UJTDchar/பீ\n",
      "../../Dataset/UJTDchar/ணீ\n",
      "../../Dataset/UJTDchar/ற்\n",
      "../../Dataset/UJTDchar/ணூ\n",
      "../../Dataset/UJTDchar/டூ\n",
      "../../Dataset/UJTDchar/ல்\n",
      "../../Dataset/UJTDchar/லி\n",
      "../../Dataset/UJTDchar/சூ\n",
      "../../Dataset/UJTDchar/கு\n",
      "../../Dataset/UJTDchar/ர\n",
      "../../Dataset/UJTDchar/ணு\n",
      "../../Dataset/UJTDchar/க\n",
      "../../Dataset/UJTDchar/ந்\n",
      "../../Dataset/UJTDchar/க்\n",
      "../../Dataset/UJTDchar/Aa\n",
      "../../Dataset/UJTDchar/றூ\n",
      "../../Dataset/UJTDchar/ம\n",
      "../../Dataset/UJTDchar/ம்\n",
      "../../Dataset/UJTDchar/ஞூ\n",
      "../../Dataset/UJTDchar/மி\n",
      "../../Dataset/UJTDchar/வ\n",
      "../../Dataset/UJTDchar/பூ\n",
      "../../Dataset/UJTDchar/வி\n",
      "../../Dataset/UJTDchar/சி\n",
      "../../Dataset/UJTDchar/ஒ\n",
      "../../Dataset/UJTDchar/ளூ\n",
      "../../Dataset/UJTDchar/நி\n",
      "../../Dataset/UJTDchar/கி\n",
      "../../Dataset/UJTDchar/எ\n",
      "../../Dataset/UJTDchar/ன\n",
      "../../Dataset/UJTDchar/ஏ\n",
      "../../Dataset/UJTDchar/மீ\n",
      "../../Dataset/UJTDchar/ழி\n",
      "../../Dataset/UJTDchar/தீ\n",
      "../../Dataset/UJTDchar/ஙு\n",
      "../../Dataset/UJTDchar/ரி\n",
      "../../Dataset/UJTDchar/வீ\n",
      "../../Dataset/UJTDchar/ரு\n",
      "../../Dataset/UJTDchar/ர்\n",
      "../../Dataset/UJTDchar/நீ\n",
      "../../Dataset/UJTDchar/ழ்\n",
      "../../Dataset/UJTDchar/ழ\n",
      "../../Dataset/UJTDchar/ளி\n",
      "../../Dataset/UJTDchar/கூ\n",
      "../../Dataset/UJTDchar/ன்\n",
      "../../Dataset/UJTDchar/நு\n",
      "../../Dataset/UJTDchar/ங்\n",
      "../../Dataset/UJTDchar/ளு\n",
      "../../Dataset/UJTDchar/மு\n",
      "../../Dataset/UJTDchar/வூ\n",
      "../../Dataset/UJTDchar/ப\n",
      "../../Dataset/UJTDchar/ரூ\n",
      "../../Dataset/UJTDchar/யு\n",
      "../../Dataset/UJTDchar/ந\n",
      "../../Dataset/UJTDchar/ஐ\n",
      "../../Dataset/UJTDchar/ச்\n",
      "../../Dataset/UJTDchar/த\n",
      "../../Dataset/UJTDchar/ஓ\n",
      "../../Dataset/UJTDchar/ய்\n",
      "../../Dataset/UJTDchar/ஙூ\n",
      "../../Dataset/UJTDchar/ா\n",
      "../../Dataset/UJTDchar/ணி\n",
      "../../Dataset/UJTDchar/ய\n",
      "../../Dataset/UJTDchar/ழீ\n",
      "../../Dataset/UJTDchar/து\n",
      "../../Dataset/UJTDchar/த்\n",
      "../../Dataset/UJTDchar/ஞ்\n",
      "../../Dataset/UJTDchar/பி\n",
      "../../Dataset/UJTDchar/சு\n",
      "../../Dataset/UJTDchar/ச\n",
      "../../Dataset/UJTDchar/ப்\n",
      "../../Dataset/UJTDchar/ஞு\n",
      "../../Dataset/UJTDchar/ளீ\n",
      "../../Dataset/UJTDchar/ள\n",
      "../../Dataset/UJTDchar/வ்\n",
      "../../Dataset/UJTDchar/னூ\n",
      "../../Dataset/UJTDchar/ஃ\n",
      "../../Dataset/UJTDchar/A\n",
      "../../Dataset/UJTDchar/வு\n",
      "../../Dataset/UJTDchar/Uu\n",
      "../../Dataset/UJTDchar/ழு\n",
      "../../Dataset/UJTDchar/யி\n",
      "../../Dataset/UJTDchar/டி\n",
      "../../Dataset/UJTDchar/ண\n",
      "../../Dataset/UJTDchar/Ii\n"
     ]
    }
   ],
   "source": [
    "for root,dirs,files in os.walk(dir):\n",
    "    #print(files)\n",
    "    print(root)\n",
    "    #print(dirs)"
   ]
  },
  {
   "cell_type": "code",
   "execution_count": 25,
   "metadata": {},
   "outputs": [
    {
     "name": "stdout",
     "output_type": "stream",
     "text": [
      "['tester.ipynb', 'model_accuracy124.png', 'cnn_ocr.ipynb', 'model.hdf5', 'modelzca.hdf5', 'model_loss124.png', 'modelzca2.hdf5', '.ipynb_checkpoints']\n"
     ]
    }
   ],
   "source": [
    "print(os.listdir(\"./\"))"
   ]
  },
  {
   "cell_type": "code",
   "execution_count": null,
   "metadata": {
    "collapsed": true
   },
   "outputs": [],
   "source": []
  }
 ],
 "metadata": {
  "kernelspec": {
   "display_name": "Python 3",
   "language": "python",
   "name": "python3"
  },
  "language_info": {
   "codemirror_mode": {
    "name": "ipython",
    "version": 3
   },
   "file_extension": ".py",
   "mimetype": "text/x-python",
   "name": "python",
   "nbconvert_exporter": "python",
   "pygments_lexer": "ipython3",
   "version": "3.6.1"
  }
 },
 "nbformat": 4,
 "nbformat_minor": 2
}
